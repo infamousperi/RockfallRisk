{
 "cells": [
  {
   "cell_type": "code",
   "execution_count": 1,
   "id": "initial_id",
   "metadata": {
    "collapsed": true,
    "ExecuteTime": {
     "end_time": "2023-12-25T15:16:50.904899600Z",
     "start_time": "2023-12-25T15:16:49.751517700Z"
    }
   },
   "outputs": [],
   "source": [
    "import Data.dataset as ds\n",
    "import Plots.plots as pl\n",
    "import Calculations.monte_carlo as mc\n",
    "import Calculations.calculations as cal\n",
    "import Calculations.probability as pb"
   ]
  },
  {
   "cell_type": "code",
   "execution_count": 2,
   "outputs": [],
   "source": [
    "zone1 = ds.get_out1()\n",
    "zone2 = ds.get_out2()\n",
    "\n",
    "mass = ('Mass', 'Mass [kg]')\n",
    "velocity = ('Velocity', 'Velocity [m/s]')\n",
    "kinetic_energy = ('Kinetic Energy', 'Kinetic Energy [kJ]')\n",
    "timedelta = ('Timedelta', 'TimeDiffHours')\n",
    "n_years = 10000"
   ],
   "metadata": {
    "collapsed": false,
    "ExecuteTime": {
     "end_time": "2023-12-25T15:16:50.916811900Z",
     "start_time": "2023-12-25T15:16:50.905404500Z"
    }
   },
   "id": "a5e7c4ba9f141996"
  },
  {
   "cell_type": "code",
   "execution_count": 3,
   "outputs": [],
   "source": [
    "without_outliers_zone1 = ds.replace_outliers_with_median(zone1)\n",
    "without_outliers_zone2 = ds.replace_outliers_with_median(zone2)"
   ],
   "metadata": {
    "collapsed": false,
    "ExecuteTime": {
     "end_time": "2023-12-25T15:16:50.930894700Z",
     "start_time": "2023-12-25T15:16:50.917813400Z"
    }
   },
   "id": "76eb4c4a50a99d08"
  },
  {
   "cell_type": "code",
   "execution_count": 4,
   "outputs": [
    {
     "name": "stdout",
     "output_type": "stream",
     "text": [
      "Zone1 Timedelta\n"
     ]
    },
    {
     "data": {
      "text/plain": "         TimeDiffHours\n0                  0.0\n1                  1.0\n2                 21.0\n3                 11.0\n4                  5.0\n...                ...\n2911675           15.0\n2911676           12.0\n2911677            3.0\n2911678           15.0\n2911679           21.0\n\n[2911680 rows x 1 columns]",
      "text/html": "<div>\n<style scoped>\n    .dataframe tbody tr th:only-of-type {\n        vertical-align: middle;\n    }\n\n    .dataframe tbody tr th {\n        vertical-align: top;\n    }\n\n    .dataframe thead th {\n        text-align: right;\n    }\n</style>\n<table border=\"1\" class=\"dataframe\">\n  <thead>\n    <tr style=\"text-align: right;\">\n      <th></th>\n      <th>TimeDiffHours</th>\n    </tr>\n  </thead>\n  <tbody>\n    <tr>\n      <th>0</th>\n      <td>0.0</td>\n    </tr>\n    <tr>\n      <th>1</th>\n      <td>1.0</td>\n    </tr>\n    <tr>\n      <th>2</th>\n      <td>21.0</td>\n    </tr>\n    <tr>\n      <th>3</th>\n      <td>11.0</td>\n    </tr>\n    <tr>\n      <th>4</th>\n      <td>5.0</td>\n    </tr>\n    <tr>\n      <th>...</th>\n      <td>...</td>\n    </tr>\n    <tr>\n      <th>2911675</th>\n      <td>15.0</td>\n    </tr>\n    <tr>\n      <th>2911676</th>\n      <td>12.0</td>\n    </tr>\n    <tr>\n      <th>2911677</th>\n      <td>3.0</td>\n    </tr>\n    <tr>\n      <th>2911678</th>\n      <td>15.0</td>\n    </tr>\n    <tr>\n      <th>2911679</th>\n      <td>21.0</td>\n    </tr>\n  </tbody>\n</table>\n<p>2911680 rows × 1 columns</p>\n</div>"
     },
     "metadata": {},
     "output_type": "display_data"
    },
    {
     "name": "stdout",
     "output_type": "stream",
     "text": [
      "Zone2 Timedelta\n"
     ]
    },
    {
     "data": {
      "text/plain": "         TimeDiffHours\n0                  0.0\n1                 17.0\n2                 17.0\n3                  4.0\n4                 61.0\n...                ...\n1900708          103.0\n1900709           10.0\n1900710           98.0\n1900711           11.0\n1900712           82.0\n\n[1900713 rows x 1 columns]",
      "text/html": "<div>\n<style scoped>\n    .dataframe tbody tr th:only-of-type {\n        vertical-align: middle;\n    }\n\n    .dataframe tbody tr th {\n        vertical-align: top;\n    }\n\n    .dataframe thead th {\n        text-align: right;\n    }\n</style>\n<table border=\"1\" class=\"dataframe\">\n  <thead>\n    <tr style=\"text-align: right;\">\n      <th></th>\n      <th>TimeDiffHours</th>\n    </tr>\n  </thead>\n  <tbody>\n    <tr>\n      <th>0</th>\n      <td>0.0</td>\n    </tr>\n    <tr>\n      <th>1</th>\n      <td>17.0</td>\n    </tr>\n    <tr>\n      <th>2</th>\n      <td>17.0</td>\n    </tr>\n    <tr>\n      <th>3</th>\n      <td>4.0</td>\n    </tr>\n    <tr>\n      <th>4</th>\n      <td>61.0</td>\n    </tr>\n    <tr>\n      <th>...</th>\n      <td>...</td>\n    </tr>\n    <tr>\n      <th>1900708</th>\n      <td>103.0</td>\n    </tr>\n    <tr>\n      <th>1900709</th>\n      <td>10.0</td>\n    </tr>\n    <tr>\n      <th>1900710</th>\n      <td>98.0</td>\n    </tr>\n    <tr>\n      <th>1900711</th>\n      <td>11.0</td>\n    </tr>\n    <tr>\n      <th>1900712</th>\n      <td>82.0</td>\n    </tr>\n  </tbody>\n</table>\n<p>1900713 rows × 1 columns</p>\n</div>"
     },
     "metadata": {},
     "output_type": "display_data"
    }
   ],
   "source": [
    "print('Zone1 Timedelta')\n",
    "sim_timediff_zone1 = mc.simulate_gamma_distribution_timediff(without_outliers_zone1, n_years, timedelta)\n",
    "display(sim_timediff_zone1)\n",
    "\n",
    "print('Zone2 Timedelta')\n",
    "sim_timediff_zone2 = mc.simulate_gamma_distribution_timediff(without_outliers_zone2, n_years, timedelta)\n",
    "display(sim_timediff_zone2)\n",
    "\n",
    "#pl.show_simulated_data(sim_timediff_zone1, sim_timediff_zone2, timedelta)\n",
    "\n",
    "n_simulations_zone1 = len(sim_timediff_zone1)\n",
    "n_simulations_zone2 = len(sim_timediff_zone2)"
   ],
   "metadata": {
    "collapsed": false,
    "ExecuteTime": {
     "end_time": "2023-12-25T15:18:37.420469100Z",
     "start_time": "2023-12-25T15:16:50.926890600Z"
    }
   },
   "id": "97a6ba29986a3c3b"
  },
  {
   "cell_type": "code",
   "execution_count": 5,
   "outputs": [
    {
     "name": "stdout",
     "output_type": "stream",
     "text": [
      "Zone1 Velocity\n"
     ]
    },
    {
     "data": {
      "text/plain": "         Velocity [m/s]\n0              9.662663\n1              8.319384\n2              8.169309\n3              7.735165\n4             10.477478\n...                 ...\n2911675       11.358744\n2911676        9.879891\n2911677        9.354382\n2911678        7.218227\n2911679        7.377053\n\n[2911680 rows x 1 columns]",
      "text/html": "<div>\n<style scoped>\n    .dataframe tbody tr th:only-of-type {\n        vertical-align: middle;\n    }\n\n    .dataframe tbody tr th {\n        vertical-align: top;\n    }\n\n    .dataframe thead th {\n        text-align: right;\n    }\n</style>\n<table border=\"1\" class=\"dataframe\">\n  <thead>\n    <tr style=\"text-align: right;\">\n      <th></th>\n      <th>Velocity [m/s]</th>\n    </tr>\n  </thead>\n  <tbody>\n    <tr>\n      <th>0</th>\n      <td>9.662663</td>\n    </tr>\n    <tr>\n      <th>1</th>\n      <td>8.319384</td>\n    </tr>\n    <tr>\n      <th>2</th>\n      <td>8.169309</td>\n    </tr>\n    <tr>\n      <th>3</th>\n      <td>7.735165</td>\n    </tr>\n    <tr>\n      <th>4</th>\n      <td>10.477478</td>\n    </tr>\n    <tr>\n      <th>...</th>\n      <td>...</td>\n    </tr>\n    <tr>\n      <th>2911675</th>\n      <td>11.358744</td>\n    </tr>\n    <tr>\n      <th>2911676</th>\n      <td>9.879891</td>\n    </tr>\n    <tr>\n      <th>2911677</th>\n      <td>9.354382</td>\n    </tr>\n    <tr>\n      <th>2911678</th>\n      <td>7.218227</td>\n    </tr>\n    <tr>\n      <th>2911679</th>\n      <td>7.377053</td>\n    </tr>\n  </tbody>\n</table>\n<p>2911680 rows × 1 columns</p>\n</div>"
     },
     "metadata": {},
     "output_type": "display_data"
    },
    {
     "name": "stdout",
     "output_type": "stream",
     "text": [
      "Zone2 Velocity\n"
     ]
    },
    {
     "data": {
      "text/plain": "         Velocity [m/s]\n0             40.660046\n1             39.949209\n2             36.725778\n3             45.423527\n4             37.204662\n...                 ...\n1900708       35.951015\n1900709       43.751190\n1900710       30.702989\n1900711       42.743041\n1900712       46.843150\n\n[1900713 rows x 1 columns]",
      "text/html": "<div>\n<style scoped>\n    .dataframe tbody tr th:only-of-type {\n        vertical-align: middle;\n    }\n\n    .dataframe tbody tr th {\n        vertical-align: top;\n    }\n\n    .dataframe thead th {\n        text-align: right;\n    }\n</style>\n<table border=\"1\" class=\"dataframe\">\n  <thead>\n    <tr style=\"text-align: right;\">\n      <th></th>\n      <th>Velocity [m/s]</th>\n    </tr>\n  </thead>\n  <tbody>\n    <tr>\n      <th>0</th>\n      <td>40.660046</td>\n    </tr>\n    <tr>\n      <th>1</th>\n      <td>39.949209</td>\n    </tr>\n    <tr>\n      <th>2</th>\n      <td>36.725778</td>\n    </tr>\n    <tr>\n      <th>3</th>\n      <td>45.423527</td>\n    </tr>\n    <tr>\n      <th>4</th>\n      <td>37.204662</td>\n    </tr>\n    <tr>\n      <th>...</th>\n      <td>...</td>\n    </tr>\n    <tr>\n      <th>1900708</th>\n      <td>35.951015</td>\n    </tr>\n    <tr>\n      <th>1900709</th>\n      <td>43.751190</td>\n    </tr>\n    <tr>\n      <th>1900710</th>\n      <td>30.702989</td>\n    </tr>\n    <tr>\n      <th>1900711</th>\n      <td>42.743041</td>\n    </tr>\n    <tr>\n      <th>1900712</th>\n      <td>46.843150</td>\n    </tr>\n  </tbody>\n</table>\n<p>1900713 rows × 1 columns</p>\n</div>"
     },
     "metadata": {},
     "output_type": "display_data"
    }
   ],
   "source": [
    "print('Zone1 Velocity')\n",
    "sim_velocity_zone1 = mc.simulate_norm_distribution(without_outliers_zone1, n_simulations_zone1, velocity)\n",
    "display(sim_velocity_zone1)\n",
    "\n",
    "print('Zone2 Velocity')\n",
    "sim_velocity_zone2 = mc.simulate_norm_distribution(without_outliers_zone2, n_simulations_zone2, velocity)\n",
    "display(sim_velocity_zone2)\n",
    "\n",
    "#pl.show_simulated_data(sim_velocity_zone1, sim_velocity_zone2, velocity)"
   ],
   "metadata": {
    "collapsed": false,
    "ExecuteTime": {
     "end_time": "2023-12-25T15:18:37.563617900Z",
     "start_time": "2023-12-25T15:18:37.414938500Z"
    }
   },
   "id": "84e74e8f0cbad617"
  },
  {
   "cell_type": "code",
   "execution_count": 6,
   "outputs": [
    {
     "name": "stdout",
     "output_type": "stream",
     "text": [
      "Zone1 Mass\n"
     ]
    },
    {
     "data": {
      "text/plain": "           Mass [kg]\n0         549.264404\n1         571.076226\n2          76.272339\n3         400.798865\n4         364.989410\n...              ...\n2911675   555.729286\n2911676  1374.000477\n2911677   433.697463\n2911678  1243.490902\n2911679   241.326935\n\n[2911680 rows x 1 columns]",
      "text/html": "<div>\n<style scoped>\n    .dataframe tbody tr th:only-of-type {\n        vertical-align: middle;\n    }\n\n    .dataframe tbody tr th {\n        vertical-align: top;\n    }\n\n    .dataframe thead th {\n        text-align: right;\n    }\n</style>\n<table border=\"1\" class=\"dataframe\">\n  <thead>\n    <tr style=\"text-align: right;\">\n      <th></th>\n      <th>Mass [kg]</th>\n    </tr>\n  </thead>\n  <tbody>\n    <tr>\n      <th>0</th>\n      <td>549.264404</td>\n    </tr>\n    <tr>\n      <th>1</th>\n      <td>571.076226</td>\n    </tr>\n    <tr>\n      <th>2</th>\n      <td>76.272339</td>\n    </tr>\n    <tr>\n      <th>3</th>\n      <td>400.798865</td>\n    </tr>\n    <tr>\n      <th>4</th>\n      <td>364.989410</td>\n    </tr>\n    <tr>\n      <th>...</th>\n      <td>...</td>\n    </tr>\n    <tr>\n      <th>2911675</th>\n      <td>555.729286</td>\n    </tr>\n    <tr>\n      <th>2911676</th>\n      <td>1374.000477</td>\n    </tr>\n    <tr>\n      <th>2911677</th>\n      <td>433.697463</td>\n    </tr>\n    <tr>\n      <th>2911678</th>\n      <td>1243.490902</td>\n    </tr>\n    <tr>\n      <th>2911679</th>\n      <td>241.326935</td>\n    </tr>\n  </tbody>\n</table>\n<p>2911680 rows × 1 columns</p>\n</div>"
     },
     "metadata": {},
     "output_type": "display_data"
    },
    {
     "name": "stdout",
     "output_type": "stream",
     "text": [
      "Zone2 Mass\n"
     ]
    },
    {
     "data": {
      "text/plain": "          Mass [kg]\n0        112.951475\n1         50.159314\n2         50.210149\n3         46.213570\n4         28.361988\n...             ...\n1900708   80.758332\n1900709   87.434515\n1900710   93.302383\n1900711   35.433229\n1900712   75.760421\n\n[1900713 rows x 1 columns]",
      "text/html": "<div>\n<style scoped>\n    .dataframe tbody tr th:only-of-type {\n        vertical-align: middle;\n    }\n\n    .dataframe tbody tr th {\n        vertical-align: top;\n    }\n\n    .dataframe thead th {\n        text-align: right;\n    }\n</style>\n<table border=\"1\" class=\"dataframe\">\n  <thead>\n    <tr style=\"text-align: right;\">\n      <th></th>\n      <th>Mass [kg]</th>\n    </tr>\n  </thead>\n  <tbody>\n    <tr>\n      <th>0</th>\n      <td>112.951475</td>\n    </tr>\n    <tr>\n      <th>1</th>\n      <td>50.159314</td>\n    </tr>\n    <tr>\n      <th>2</th>\n      <td>50.210149</td>\n    </tr>\n    <tr>\n      <th>3</th>\n      <td>46.213570</td>\n    </tr>\n    <tr>\n      <th>4</th>\n      <td>28.361988</td>\n    </tr>\n    <tr>\n      <th>...</th>\n      <td>...</td>\n    </tr>\n    <tr>\n      <th>1900708</th>\n      <td>80.758332</td>\n    </tr>\n    <tr>\n      <th>1900709</th>\n      <td>87.434515</td>\n    </tr>\n    <tr>\n      <th>1900710</th>\n      <td>93.302383</td>\n    </tr>\n    <tr>\n      <th>1900711</th>\n      <td>35.433229</td>\n    </tr>\n    <tr>\n      <th>1900712</th>\n      <td>75.760421</td>\n    </tr>\n  </tbody>\n</table>\n<p>1900713 rows × 1 columns</p>\n</div>"
     },
     "metadata": {},
     "output_type": "display_data"
    }
   ],
   "source": [
    "print('Zone1 Mass')\n",
    "sim_mass_zone1 = mc.simulate_gamma_distribution(without_outliers_zone1, n_simulations_zone1, mass)\n",
    "display(sim_mass_zone1)\n",
    "\n",
    "print('Zone2 Mass')\n",
    "sim_mass_zone2 = mc.simulate_gamma_distribution(without_outliers_zone2, n_simulations_zone2, mass)\n",
    "display(sim_mass_zone2)\n",
    "\n",
    "#pl.show_simulated_data(sim_mass_zone1, sim_mass_zone2, mass)"
   ],
   "metadata": {
    "collapsed": false,
    "ExecuteTime": {
     "end_time": "2023-12-25T15:18:37.786625700Z",
     "start_time": "2023-12-25T15:18:37.538054200Z"
    }
   },
   "id": "20a721a3f434e6e0"
  },
  {
   "cell_type": "code",
   "execution_count": 7,
   "outputs": [
    {
     "name": "stdout",
     "output_type": "stream",
     "text": [
      "Zone1\n"
     ]
    },
    {
     "data": {
      "text/plain": "                    DateTime  Year  Month  Day Timestamp    Mass [kg]  \\\n0        0001-01-01 00:00:00     1      1    1     00:00   549.264404   \n1        0001-01-01 01:00:00     1      1    1     01:00   571.076226   \n2        0001-01-01 22:00:00     1      1    1     22:00    76.272339   \n3        0001-01-02 09:00:00     1      1    2     09:00   400.798865   \n4        0001-01-02 14:00:00     1      1    2     14:00   364.989410   \n...                      ...   ...    ...  ...       ...          ...   \n2911675  9994-05-09 01:00:00  9994      5    9     01:00   555.729286   \n2911676  9994-05-09 13:00:00  9994      5    9     13:00  1374.000477   \n2911677  9994-05-09 16:00:00  9994      5    9     16:00   433.697463   \n2911678  9994-05-10 07:00:00  9994      5   10     07:00  1243.490902   \n2911679  9994-05-11 04:00:00  9994      5   11     04:00   241.326935   \n\n         Velocity [m/s]  Kinetic Energy [kJ]  TimeDiffHours  \n0              9.662663            25.641600            0.0  \n1              8.319384            19.762708            1.0  \n2              8.169309             2.545117           21.0  \n3              7.735165            11.990453           11.0  \n4             10.477478            20.033819            5.0  \n...                 ...                  ...            ...  \n2911675       11.358744            35.850391           15.0  \n2911676        9.879891            67.059643           12.0  \n2911677        9.354382            18.975232            3.0  \n2911678        7.218227            32.394682           15.0  \n2911679        7.377053             6.566615           21.0  \n\n[2911680 rows x 9 columns]",
      "text/html": "<div>\n<style scoped>\n    .dataframe tbody tr th:only-of-type {\n        vertical-align: middle;\n    }\n\n    .dataframe tbody tr th {\n        vertical-align: top;\n    }\n\n    .dataframe thead th {\n        text-align: right;\n    }\n</style>\n<table border=\"1\" class=\"dataframe\">\n  <thead>\n    <tr style=\"text-align: right;\">\n      <th></th>\n      <th>DateTime</th>\n      <th>Year</th>\n      <th>Month</th>\n      <th>Day</th>\n      <th>Timestamp</th>\n      <th>Mass [kg]</th>\n      <th>Velocity [m/s]</th>\n      <th>Kinetic Energy [kJ]</th>\n      <th>TimeDiffHours</th>\n    </tr>\n  </thead>\n  <tbody>\n    <tr>\n      <th>0</th>\n      <td>0001-01-01 00:00:00</td>\n      <td>1</td>\n      <td>1</td>\n      <td>1</td>\n      <td>00:00</td>\n      <td>549.264404</td>\n      <td>9.662663</td>\n      <td>25.641600</td>\n      <td>0.0</td>\n    </tr>\n    <tr>\n      <th>1</th>\n      <td>0001-01-01 01:00:00</td>\n      <td>1</td>\n      <td>1</td>\n      <td>1</td>\n      <td>01:00</td>\n      <td>571.076226</td>\n      <td>8.319384</td>\n      <td>19.762708</td>\n      <td>1.0</td>\n    </tr>\n    <tr>\n      <th>2</th>\n      <td>0001-01-01 22:00:00</td>\n      <td>1</td>\n      <td>1</td>\n      <td>1</td>\n      <td>22:00</td>\n      <td>76.272339</td>\n      <td>8.169309</td>\n      <td>2.545117</td>\n      <td>21.0</td>\n    </tr>\n    <tr>\n      <th>3</th>\n      <td>0001-01-02 09:00:00</td>\n      <td>1</td>\n      <td>1</td>\n      <td>2</td>\n      <td>09:00</td>\n      <td>400.798865</td>\n      <td>7.735165</td>\n      <td>11.990453</td>\n      <td>11.0</td>\n    </tr>\n    <tr>\n      <th>4</th>\n      <td>0001-01-02 14:00:00</td>\n      <td>1</td>\n      <td>1</td>\n      <td>2</td>\n      <td>14:00</td>\n      <td>364.989410</td>\n      <td>10.477478</td>\n      <td>20.033819</td>\n      <td>5.0</td>\n    </tr>\n    <tr>\n      <th>...</th>\n      <td>...</td>\n      <td>...</td>\n      <td>...</td>\n      <td>...</td>\n      <td>...</td>\n      <td>...</td>\n      <td>...</td>\n      <td>...</td>\n      <td>...</td>\n    </tr>\n    <tr>\n      <th>2911675</th>\n      <td>9994-05-09 01:00:00</td>\n      <td>9994</td>\n      <td>5</td>\n      <td>9</td>\n      <td>01:00</td>\n      <td>555.729286</td>\n      <td>11.358744</td>\n      <td>35.850391</td>\n      <td>15.0</td>\n    </tr>\n    <tr>\n      <th>2911676</th>\n      <td>9994-05-09 13:00:00</td>\n      <td>9994</td>\n      <td>5</td>\n      <td>9</td>\n      <td>13:00</td>\n      <td>1374.000477</td>\n      <td>9.879891</td>\n      <td>67.059643</td>\n      <td>12.0</td>\n    </tr>\n    <tr>\n      <th>2911677</th>\n      <td>9994-05-09 16:00:00</td>\n      <td>9994</td>\n      <td>5</td>\n      <td>9</td>\n      <td>16:00</td>\n      <td>433.697463</td>\n      <td>9.354382</td>\n      <td>18.975232</td>\n      <td>3.0</td>\n    </tr>\n    <tr>\n      <th>2911678</th>\n      <td>9994-05-10 07:00:00</td>\n      <td>9994</td>\n      <td>5</td>\n      <td>10</td>\n      <td>07:00</td>\n      <td>1243.490902</td>\n      <td>7.218227</td>\n      <td>32.394682</td>\n      <td>15.0</td>\n    </tr>\n    <tr>\n      <th>2911679</th>\n      <td>9994-05-11 04:00:00</td>\n      <td>9994</td>\n      <td>5</td>\n      <td>11</td>\n      <td>04:00</td>\n      <td>241.326935</td>\n      <td>7.377053</td>\n      <td>6.566615</td>\n      <td>21.0</td>\n    </tr>\n  </tbody>\n</table>\n<p>2911680 rows × 9 columns</p>\n</div>"
     },
     "metadata": {},
     "output_type": "display_data"
    },
    {
     "name": "stdout",
     "output_type": "stream",
     "text": [
      "Zone2\n"
     ]
    },
    {
     "data": {
      "text/plain": "                    DateTime  Year  Month  Day Timestamp   Mass [kg]  \\\n0        0001-01-01 00:00:00     1      1    1     00:00  112.951475   \n1        0001-01-01 17:00:00     1      1    1     17:00   50.159314   \n2        0001-01-02 10:00:00     1      1    2     10:00   50.210149   \n3        0001-01-02 14:00:00     1      1    2     14:00   46.213570   \n4        0001-01-05 03:00:00     1      1    5     03:00   28.361988   \n...                      ...   ...    ...  ...       ...         ...   \n1900708  9994-05-04 00:00:00  9994      5    4     00:00   80.758332   \n1900709  9994-05-04 10:00:00  9994      5    4     10:00   87.434515   \n1900710  9994-05-08 12:00:00  9994      5    8     12:00   93.302383   \n1900711  9994-05-08 23:00:00  9994      5    8     23:00   35.433229   \n1900712  9994-05-12 09:00:00  9994      5   12     09:00   75.760421   \n\n         Velocity [m/s]  Kinetic Energy [kJ]  TimeDiffHours  \n0             40.660046            93.367911            0.0  \n1             39.949209            40.025610           17.0  \n2             36.725778            33.861292           17.0  \n3             45.423527            47.676156            4.0  \n4             37.204662            19.629146           61.0  \n...                 ...                  ...            ...  \n1900708       35.951015            52.189081          103.0  \n1900709       43.751190            83.682117           10.0  \n1900710       30.702989            43.976842           98.0  \n1900711       42.743041            32.367680           11.0  \n1900712       46.843150            83.119815           82.0  \n\n[1900713 rows x 9 columns]",
      "text/html": "<div>\n<style scoped>\n    .dataframe tbody tr th:only-of-type {\n        vertical-align: middle;\n    }\n\n    .dataframe tbody tr th {\n        vertical-align: top;\n    }\n\n    .dataframe thead th {\n        text-align: right;\n    }\n</style>\n<table border=\"1\" class=\"dataframe\">\n  <thead>\n    <tr style=\"text-align: right;\">\n      <th></th>\n      <th>DateTime</th>\n      <th>Year</th>\n      <th>Month</th>\n      <th>Day</th>\n      <th>Timestamp</th>\n      <th>Mass [kg]</th>\n      <th>Velocity [m/s]</th>\n      <th>Kinetic Energy [kJ]</th>\n      <th>TimeDiffHours</th>\n    </tr>\n  </thead>\n  <tbody>\n    <tr>\n      <th>0</th>\n      <td>0001-01-01 00:00:00</td>\n      <td>1</td>\n      <td>1</td>\n      <td>1</td>\n      <td>00:00</td>\n      <td>112.951475</td>\n      <td>40.660046</td>\n      <td>93.367911</td>\n      <td>0.0</td>\n    </tr>\n    <tr>\n      <th>1</th>\n      <td>0001-01-01 17:00:00</td>\n      <td>1</td>\n      <td>1</td>\n      <td>1</td>\n      <td>17:00</td>\n      <td>50.159314</td>\n      <td>39.949209</td>\n      <td>40.025610</td>\n      <td>17.0</td>\n    </tr>\n    <tr>\n      <th>2</th>\n      <td>0001-01-02 10:00:00</td>\n      <td>1</td>\n      <td>1</td>\n      <td>2</td>\n      <td>10:00</td>\n      <td>50.210149</td>\n      <td>36.725778</td>\n      <td>33.861292</td>\n      <td>17.0</td>\n    </tr>\n    <tr>\n      <th>3</th>\n      <td>0001-01-02 14:00:00</td>\n      <td>1</td>\n      <td>1</td>\n      <td>2</td>\n      <td>14:00</td>\n      <td>46.213570</td>\n      <td>45.423527</td>\n      <td>47.676156</td>\n      <td>4.0</td>\n    </tr>\n    <tr>\n      <th>4</th>\n      <td>0001-01-05 03:00:00</td>\n      <td>1</td>\n      <td>1</td>\n      <td>5</td>\n      <td>03:00</td>\n      <td>28.361988</td>\n      <td>37.204662</td>\n      <td>19.629146</td>\n      <td>61.0</td>\n    </tr>\n    <tr>\n      <th>...</th>\n      <td>...</td>\n      <td>...</td>\n      <td>...</td>\n      <td>...</td>\n      <td>...</td>\n      <td>...</td>\n      <td>...</td>\n      <td>...</td>\n      <td>...</td>\n    </tr>\n    <tr>\n      <th>1900708</th>\n      <td>9994-05-04 00:00:00</td>\n      <td>9994</td>\n      <td>5</td>\n      <td>4</td>\n      <td>00:00</td>\n      <td>80.758332</td>\n      <td>35.951015</td>\n      <td>52.189081</td>\n      <td>103.0</td>\n    </tr>\n    <tr>\n      <th>1900709</th>\n      <td>9994-05-04 10:00:00</td>\n      <td>9994</td>\n      <td>5</td>\n      <td>4</td>\n      <td>10:00</td>\n      <td>87.434515</td>\n      <td>43.751190</td>\n      <td>83.682117</td>\n      <td>10.0</td>\n    </tr>\n    <tr>\n      <th>1900710</th>\n      <td>9994-05-08 12:00:00</td>\n      <td>9994</td>\n      <td>5</td>\n      <td>8</td>\n      <td>12:00</td>\n      <td>93.302383</td>\n      <td>30.702989</td>\n      <td>43.976842</td>\n      <td>98.0</td>\n    </tr>\n    <tr>\n      <th>1900711</th>\n      <td>9994-05-08 23:00:00</td>\n      <td>9994</td>\n      <td>5</td>\n      <td>8</td>\n      <td>23:00</td>\n      <td>35.433229</td>\n      <td>42.743041</td>\n      <td>32.367680</td>\n      <td>11.0</td>\n    </tr>\n    <tr>\n      <th>1900712</th>\n      <td>9994-05-12 09:00:00</td>\n      <td>9994</td>\n      <td>5</td>\n      <td>12</td>\n      <td>09:00</td>\n      <td>75.760421</td>\n      <td>46.843150</td>\n      <td>83.119815</td>\n      <td>82.0</td>\n    </tr>\n  </tbody>\n</table>\n<p>1900713 rows × 9 columns</p>\n</div>"
     },
     "metadata": {},
     "output_type": "display_data"
    }
   ],
   "source": [
    "merged_zone1 = ds.merge_simulated_data(sim_mass_zone1, sim_velocity_zone1, sim_timediff_zone1)\n",
    "merged_zone2 = ds.merge_simulated_data(sim_mass_zone2, sim_velocity_zone2, sim_timediff_zone2)\n",
    "\n",
    "print('Zone1')\n",
    "display(merged_zone1)\n",
    "print('Zone2')\n",
    "display(merged_zone2)"
   ],
   "metadata": {
    "collapsed": false,
    "ExecuteTime": {
     "end_time": "2023-12-25T15:18:54.965367Z",
     "start_time": "2023-12-25T15:18:37.729759900Z"
    }
   },
   "id": "7d0264215c476d69"
  },
  {
   "cell_type": "code",
   "execution_count": 8,
   "outputs": [
    {
     "data": {
      "text/plain": "                 DateTime  Zone    Mass [kg]  Velocity [m/s]  \\\n0           1-01-01 00:00     1   549.264404        9.662663   \n0           1-01-01 00:00     2   112.951475       40.660046   \n1           1-01-01 01:00     1   571.076226        8.319384   \n1           1-01-01 17:00     2    50.159314       39.949209   \n2           1-01-01 22:00     1    76.272339        8.169309   \n...                   ...   ...          ...             ...   \n2911676  9994-05-09 13:00     1  1374.000477        9.879891   \n2911677  9994-05-09 16:00     1   433.697463        9.354382   \n2911678  9994-05-10 07:00     1  1243.490902        7.218227   \n2911679  9994-05-11 04:00     1   241.326935        7.377053   \n1900712  9994-05-12 09:00     2    75.760421       46.843150   \n\n         Kinetic Energy [kJ]  CumulativeMassInNet  \n0                  25.641600             0.000000  \n0                  93.367911             0.000000  \n1                  19.762708           662.215880  \n1                  40.025610             0.000000  \n2                   2.545117            50.159314  \n...                      ...                  ...  \n2911676            67.059643             0.000000  \n2911677            18.975232          1374.000477  \n2911678            32.394682             0.000000  \n2911679             6.566615             0.000000  \n1900712            83.119815             0.000000  \n\n[4812393 rows x 6 columns]",
      "text/html": "<div>\n<style scoped>\n    .dataframe tbody tr th:only-of-type {\n        vertical-align: middle;\n    }\n\n    .dataframe tbody tr th {\n        vertical-align: top;\n    }\n\n    .dataframe thead th {\n        text-align: right;\n    }\n</style>\n<table border=\"1\" class=\"dataframe\">\n  <thead>\n    <tr style=\"text-align: right;\">\n      <th></th>\n      <th>DateTime</th>\n      <th>Zone</th>\n      <th>Mass [kg]</th>\n      <th>Velocity [m/s]</th>\n      <th>Kinetic Energy [kJ]</th>\n      <th>CumulativeMassInNet</th>\n    </tr>\n  </thead>\n  <tbody>\n    <tr>\n      <th>0</th>\n      <td>1-01-01 00:00</td>\n      <td>1</td>\n      <td>549.264404</td>\n      <td>9.662663</td>\n      <td>25.641600</td>\n      <td>0.000000</td>\n    </tr>\n    <tr>\n      <th>0</th>\n      <td>1-01-01 00:00</td>\n      <td>2</td>\n      <td>112.951475</td>\n      <td>40.660046</td>\n      <td>93.367911</td>\n      <td>0.000000</td>\n    </tr>\n    <tr>\n      <th>1</th>\n      <td>1-01-01 01:00</td>\n      <td>1</td>\n      <td>571.076226</td>\n      <td>8.319384</td>\n      <td>19.762708</td>\n      <td>662.215880</td>\n    </tr>\n    <tr>\n      <th>1</th>\n      <td>1-01-01 17:00</td>\n      <td>2</td>\n      <td>50.159314</td>\n      <td>39.949209</td>\n      <td>40.025610</td>\n      <td>0.000000</td>\n    </tr>\n    <tr>\n      <th>2</th>\n      <td>1-01-01 22:00</td>\n      <td>1</td>\n      <td>76.272339</td>\n      <td>8.169309</td>\n      <td>2.545117</td>\n      <td>50.159314</td>\n    </tr>\n    <tr>\n      <th>...</th>\n      <td>...</td>\n      <td>...</td>\n      <td>...</td>\n      <td>...</td>\n      <td>...</td>\n      <td>...</td>\n    </tr>\n    <tr>\n      <th>2911676</th>\n      <td>9994-05-09 13:00</td>\n      <td>1</td>\n      <td>1374.000477</td>\n      <td>9.879891</td>\n      <td>67.059643</td>\n      <td>0.000000</td>\n    </tr>\n    <tr>\n      <th>2911677</th>\n      <td>9994-05-09 16:00</td>\n      <td>1</td>\n      <td>433.697463</td>\n      <td>9.354382</td>\n      <td>18.975232</td>\n      <td>1374.000477</td>\n    </tr>\n    <tr>\n      <th>2911678</th>\n      <td>9994-05-10 07:00</td>\n      <td>1</td>\n      <td>1243.490902</td>\n      <td>7.218227</td>\n      <td>32.394682</td>\n      <td>0.000000</td>\n    </tr>\n    <tr>\n      <th>2911679</th>\n      <td>9994-05-11 04:00</td>\n      <td>1</td>\n      <td>241.326935</td>\n      <td>7.377053</td>\n      <td>6.566615</td>\n      <td>0.000000</td>\n    </tr>\n    <tr>\n      <th>1900712</th>\n      <td>9994-05-12 09:00</td>\n      <td>2</td>\n      <td>75.760421</td>\n      <td>46.843150</td>\n      <td>83.119815</td>\n      <td>0.000000</td>\n    </tr>\n  </tbody>\n</table>\n<p>4812393 rows × 6 columns</p>\n</div>"
     },
     "metadata": {},
     "output_type": "display_data"
    }
   ],
   "source": [
    "sim_rocks_in_net = cal.sim_calculate_cumulative_mass_since_clearing(merged_zone1, merged_zone2)\n",
    "display(sim_rocks_in_net)"
   ],
   "metadata": {
    "collapsed": false,
    "ExecuteTime": {
     "end_time": "2023-12-25T15:19:15.725327100Z",
     "start_time": "2023-12-25T15:18:54.958841200Z"
    }
   },
   "id": "30a3764ee458c507"
  },
  {
   "cell_type": "code",
   "execution_count": 9,
   "outputs": [
    {
     "name": "stdout",
     "output_type": "stream",
     "text": [
      "123\n",
      "0.002555900983149132 % Netzbruchwahrscheinlichkeit in 10000 Jahren\n"
     ]
    }
   ],
   "source": [
    "net_brake_probability = pb.calculate_probability(sim_rocks_in_net)\n",
    "print(net_brake_probability*100, '% Netzbruchwahrscheinlichkeit in 10000 Jahren')"
   ],
   "metadata": {
    "collapsed": false,
    "ExecuteTime": {
     "end_time": "2023-12-25T15:19:15.785029500Z",
     "start_time": "2023-12-25T15:19:15.724326700Z"
    }
   },
   "id": "ca71c6a1ccae3600"
  },
  {
   "cell_type": "code",
   "execution_count": 10,
   "outputs": [
    {
     "name": "stdout",
     "output_type": "stream",
     "text": [
      "2.5559336869207527e-07 % Netzbruchwahrscheinlichkeit pro Jahr\n"
     ]
    }
   ],
   "source": [
    "net_brake_probability_per_year = pb.calculate_yearly_probability(net_brake_probability, n_years)\n",
    "print(net_brake_probability_per_year*100, '% Netzbruchwahrscheinlichkeit pro Jahr')"
   ],
   "metadata": {
    "collapsed": false,
    "ExecuteTime": {
     "end_time": "2023-12-25T15:19:15.785029500Z",
     "start_time": "2023-12-25T15:19:15.753025900Z"
    }
   },
   "id": "8c9f12d7685aa93a"
  },
  {
   "cell_type": "code",
   "execution_count": 11,
   "outputs": [
    {
     "name": "stdout",
     "output_type": "stream",
     "text": [
      "1.944963298399216e-06 % Gesamttodeswahrscheinlichkeit pro Jahr\n"
     ]
    }
   ],
   "source": [
    "overall_death_probability = pb.calculate_overall_death_probability(net_brake_probability_per_year)\n",
    "print(overall_death_probability*100, '% Gesamttodeswahrscheinlichkeit pro Jahr')"
   ],
   "metadata": {
    "collapsed": false,
    "ExecuteTime": {
     "end_time": "2023-12-25T15:19:15.785029500Z",
     "start_time": "2023-12-25T15:19:15.757523700Z"
    }
   },
   "id": "6879fca5206a3793"
  }
 ],
 "metadata": {
  "kernelspec": {
   "display_name": "Python 3",
   "language": "python",
   "name": "python3"
  },
  "language_info": {
   "codemirror_mode": {
    "name": "ipython",
    "version": 2
   },
   "file_extension": ".py",
   "mimetype": "text/x-python",
   "name": "python",
   "nbconvert_exporter": "python",
   "pygments_lexer": "ipython2",
   "version": "2.7.6"
  }
 },
 "nbformat": 4,
 "nbformat_minor": 5
}
